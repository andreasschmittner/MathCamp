{
 "cells": [
  {
   "cell_type": "markdown",
   "id": "5b9e852e-6d6f-46a1-b4a0-46d89b1e205a",
   "metadata": {
    "tags": []
   },
   "source": [
    "# 11. Linear Regression\n",
    "- Ask ChatGPT to write you python code for a linear regression $y = b_0 + b_1x$, list the regression parameters (slope, intercept, $R^2$), and plot the results. This minimizes the errors in $y$. Use the data given in HW # 11b.\n",
    "\n",
    "- To get an idea about the uncertainty of the estimated parameters, reverse the variables $x = b'_0 + b'_1y$ (this minmizes the errors in x), re-calculate and list the regression parameters and plot the resulting regression line together with the first line. Tip: you'll have to convert the parameters of the second regression so that they are comparable with the first, e.g. $b_0 = f(b'_0,b'_1)$"
   ]
  },
  {
   "cell_type": "code",
   "execution_count": null,
   "id": "b39287e3-49ea-4bc2-82ae-f119e8861c51",
   "metadata": {},
   "outputs": [],
   "source": []
  }
 ],
 "metadata": {
  "kernelspec": {
   "display_name": "Python 3",
   "language": "python",
   "name": "python3"
  },
  "language_info": {
   "codemirror_mode": {
    "name": "ipython",
    "version": 3
   },
   "file_extension": ".py",
   "mimetype": "text/x-python",
   "name": "python",
   "nbconvert_exporter": "python",
   "pygments_lexer": "ipython3",
   "version": "3.8.10"
  }
 },
 "nbformat": 4,
 "nbformat_minor": 5
}
