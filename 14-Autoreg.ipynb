{
 "cells": [
  {
   "cell_type": "markdown",
   "id": "7061d193-56ab-4b90-87e2-67d1ee189af1",
   "metadata": {},
   "source": [
    "# 14. Auto-regressive Processes\n",
    "\n",
    "Let ChatGPT write python code to calculate timeseries data of an auto-regressive process of order one ($x_n = \\alpha x_{n-1} + w$, where w is white noise and $0 < \\alpha < 1$ is the autocorrelation coefficient. \n",
    "\n",
    "- Plot the timeseries together with that of the white noise.\n",
    "\n",
    "- Change alpha considerably and plot the corresponding timeseries. Discuss the differences.\n",
    "\n",
    "- Modify the code to create a timeseries of an AR2 process $x_n = \\alpha_1 x_{n-1} + \\alpha_2 x_{n-2} + w$ with $\\alpha_1 = 0.9$ and $\\alpha_2 = -0.8$. Plot the results and discuss."
   ]
  }
 ],
 "metadata": {
  "kernelspec": {
   "display_name": "Python 3",
   "language": "python",
   "name": "python3"
  },
  "language_info": {
   "codemirror_mode": {
    "name": "ipython",
    "version": 3
   },
   "file_extension": ".py",
   "mimetype": "text/x-python",
   "name": "python",
   "nbconvert_exporter": "python",
   "pygments_lexer": "ipython3",
   "version": "3.8.10"
  }
 },
 "nbformat": 4,
 "nbformat_minor": 5
}
