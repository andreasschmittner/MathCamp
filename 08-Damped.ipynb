{
 "cells": [
  {
   "cell_type": "markdown",
   "id": "591fe241-8c06-407b-8013-1c103e3cc23b",
   "metadata": {},
   "source": [
    "# 8. Damped Oscillator\n",
    "\n",
    "Let ChatGPT write code for you that solves the damped oscillator differential equations using the forward differencing method. \n",
    "\n",
    "- Use the code to explore the three cases: (1) underdamped, (2) over damped and (3) critically damped. Elaborate and the code and solutions. (15 points)"
   ]
  },
  {
   "cell_type": "code",
   "execution_count": null,
   "id": "a88c9774-d8c2-4591-8935-e06c578f1993",
   "metadata": {},
   "outputs": [],
   "source": []
  }
 ],
 "metadata": {
  "kernelspec": {
   "display_name": "Python 3",
   "language": "python",
   "name": "python3"
  },
  "language_info": {
   "codemirror_mode": {
    "name": "ipython",
    "version": 3
   },
   "file_extension": ".py",
   "mimetype": "text/x-python",
   "name": "python",
   "nbconvert_exporter": "python",
   "pygments_lexer": "ipython3",
   "version": "3.8.10"
  }
 },
 "nbformat": 4,
 "nbformat_minor": 5
}
