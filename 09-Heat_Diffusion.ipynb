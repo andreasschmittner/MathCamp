{
 "cells": [
  {
   "cell_type": "markdown",
   "id": "99d81840-7934-4ac5-9919-2693818fb4ca",
   "metadata": {},
   "source": [
    "# 9. Heat Diffusion in a Rod\n",
    "1. Let ChatGPT write code that numerically solves the one-dinesional heat diffusion equation we discussed in class. Specify initial conditions that we used in class to reproduce numerically the results we obtained in the lecture mathematically. Modify the code if it isn't satisfactory. (5 points)\n",
    "2. Increase the time step $\\Delta t$ until something unexpected happens. Describe what happens and note the time step at which it happens. Try to narrow down the critical time step. (5 points)\n",
    "3. Now go back to the original small time step and double the grid box spacing. Again increase the time step and try to find the critical time step. (5 points)\n",
    "4. Discuss your results. Does the critical time step depend on the grid box spacing? If yes, how? (2 points)"
   ]
  },
  {
   "cell_type": "code",
   "execution_count": null,
   "id": "bccd4dfb-ef52-497b-b7ca-a62b8b945dca",
   "metadata": {},
   "outputs": [],
   "source": []
  }
 ],
 "metadata": {
  "kernelspec": {
   "display_name": "Python 3",
   "language": "python",
   "name": "python3"
  },
  "language_info": {
   "codemirror_mode": {
    "name": "ipython",
    "version": 3
   },
   "file_extension": ".py",
   "mimetype": "text/x-python",
   "name": "python",
   "nbconvert_exporter": "python",
   "pygments_lexer": "ipython3",
   "version": "3.8.10"
  }
 },
 "nbformat": 4,
 "nbformat_minor": 5
}
