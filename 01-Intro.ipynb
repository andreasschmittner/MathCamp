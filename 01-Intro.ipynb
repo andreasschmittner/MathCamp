{
 "cells": [
  {
   "cell_type": "markdown",
   "id": "3fba8036-1714-4f5f-b891-909e1285b6d4",
   "metadata": {
    "tags": []
   },
   "source": [
    "# 1. Introduction\n",
    "## 1.1 Jupyter Notebooks 📓\n",
    "This is a [Jupyter Notebook](https://jupyter.org/try-jupyter/retro/notebooks/?path=notebooks/Intro.ipynb), a combination of text and code. The text is written in [Markdown](https://www.markdownguide.org/cheat-sheet/), which is a convenient way to write notes, with minimal formatting. \n",
    "\n",
    "- Create a new directory (called e.g. OC515) on your account: on the left menu goto /data/yourONIDusername/ and press the button with the folder and a small + sign and enter `OC515` in the field\n",
    "- Copy this notebook to your new directory using the `File` menu and `Save Notebook As`, so that you can make changes to it. \n",
    "\n",
    "(2 points)"
   ]
  },
  {
   "cell_type": "markdown",
   "id": "f1b5e6f9-aab1-45a2-9bc4-f5be1c8fec41",
   "metadata": {
    "tags": []
   },
   "source": [
    "To add a new cell click on the plus sign \"+\" in the top menu. If you want it to be a text cell you need to select \"Markdown\" rather than \"Code\". You can include different code (Julia, R) in jupyter notebooks, but here we'll use [python](https://www.python.org/). To run a cell, push the \"play\" botton in the menu (triangle pointing towards the right). \n",
    "\n",
    "## 1.2 ChatGPT: Your Python Teacher 🧑🏽‍🏫\n",
    "If you don't know python, and want to learn it, why not let [ChatGPT](https://chat.openai.com/) help you?\n",
    "\n",
    "💡 You may need to set-up an account with ChatGPT before you can use it.\n",
    "\n",
    "Now you may want to start with plotting a sine curve. 📈 \n",
    "\n",
    "- Go ahead and ask ChatGPT, e.g. by prompting it to `write python code that plots a sine curve`.\n",
    "- Copy and paste the code below and run it. \n",
    "\n",
    "(2 points)"
   ]
  },
  {
   "cell_type": "code",
   "execution_count": null,
   "id": "5776748c-dbad-4d80-94e6-0087829c1563",
   "metadata": {},
   "outputs": [],
   "source": []
  },
  {
   "cell_type": "markdown",
   "id": "4fecd55b-fda8-4276-b1c7-48432168aa17",
   "metadata": {},
   "source": [
    "## 1.3 Analyze the Code\n",
    "That's great. 😀 Now, look at the code and try to understand what it's doing. 🤔 \n",
    "\n",
    "Feel free to ask Google, ChatGPT, your TA or your instructor if you have questions such as these.\n",
    "- What are the lines starting with a pound sign `#`?\n",
    "- What are the lines starting with `import`?\n",
    "\n",
    "Add a Markdown cell below and report your question(s) and the answers you got. \n",
    "\n",
    "(2 points per question for a max of 4 points)"
   ]
  },
  {
   "cell_type": "markdown",
   "id": "f4dd73b0-0e01-4698-b5e6-8c9136431ca6",
   "metadata": {},
   "source": [
    "## 1.4 Play with the Code\n",
    "Play around a little bit with the code. E.g. try to add a cosine curve or change the x-axis range. Add the modified code in a new cell below and explain what you did in a new Markdown cell. \n",
    "\n",
    "(2 points)"
   ]
  },
  {
   "cell_type": "markdown",
   "id": "7b58a072-2c60-4f92-bc49-b7adf9202023",
   "metadata": {},
   "source": [
    "## 1.5 Modify the Code\n",
    "\n",
    "- Now open a new cell below and write code that plots two sine waves with slightly different frequencies. (Feel free to copy and paste from the above code.)\n",
    "- Add the individual waves, which will allow you to see where constructive/destructive interference occurs.\n",
    "- Finally, add the modulating lower-frequency wave.\n",
    "\n",
    "(6 points)"
   ]
  }
 ],
 "metadata": {
  "kernelspec": {
   "display_name": "Python 3",
   "language": "python",
   "name": "python3"
  },
  "language_info": {
   "codemirror_mode": {
    "name": "ipython",
    "version": 3
   },
   "file_extension": ".py",
   "mimetype": "text/x-python",
   "name": "python",
   "nbconvert_exporter": "python",
   "pygments_lexer": "ipython3",
   "version": "3.8.10"
  }
 },
 "nbformat": 4,
 "nbformat_minor": 5
}
