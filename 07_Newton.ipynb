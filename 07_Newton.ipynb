{
 "cells": [
  {
   "cell_type": "markdown",
   "id": "bca5ae48-3eb3-456d-b1c4-cf4084d4b635",
   "metadata": {},
   "source": [
    "# 7. Newton's Law of Cooling\n",
    "Let ChatGPT write you code that solves Newton's law of cooling using a forward difference approximation of the ODE.\n",
    "- Enter the prompt you used for ChatGPT and the resulting code. (2 points)\n",
    "- Is the result satisfactory or would you want to make adjustments to the code? Explain. (2 points)\n",
    "- Modify the code to plot solutions for different (at least three) initial conditions $T_1$, including one in which $T_1 < T_0$ the initial temperature is colder than the environment. (6 points)\n",
    "- Change the parameter K, plot results with two different K, and discuss the results. (6 points)"
   ]
  },
  {
   "cell_type": "code",
   "execution_count": null,
   "id": "7af6f149-e308-41b4-bf98-b0a77d00794c",
   "metadata": {},
   "outputs": [],
   "source": []
  }
 ],
 "metadata": {
  "kernelspec": {
   "display_name": "Python 3",
   "language": "python",
   "name": "python3"
  },
  "language_info": {
   "codemirror_mode": {
    "name": "ipython",
    "version": 3
   },
   "file_extension": ".py",
   "mimetype": "text/x-python",
   "name": "python",
   "nbconvert_exporter": "python",
   "pygments_lexer": "ipython3",
   "version": "3.8.10"
  }
 },
 "nbformat": 4,
 "nbformat_minor": 5
}
